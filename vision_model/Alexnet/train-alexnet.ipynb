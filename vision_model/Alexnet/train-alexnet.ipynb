{
 "cells": [
  {
   "cell_type": "markdown",
   "id": "a394f938",
   "metadata": {
    "papermill": {
     "duration": 0.00392,
     "end_time": "2025-03-02T05:29:20.162518",
     "exception": false,
     "start_time": "2025-03-02T05:29:20.158598",
     "status": "completed"
    },
    "tags": []
   },
   "source": [
    "# 패키지 import & 하이퍼파라미터 세팅"
   ]
  },
  {
   "cell_type": "code",
   "execution_count": 1,
   "id": "3e41a077",
   "metadata": {
    "execution": {
     "iopub.execute_input": "2025-03-02T05:29:20.170464Z",
     "iopub.status.busy": "2025-03-02T05:29:20.170196Z",
     "iopub.status.idle": "2025-03-02T05:29:27.312312Z",
     "shell.execute_reply": "2025-03-02T05:29:27.311600Z"
    },
    "papermill": {
     "duration": 7.147756,
     "end_time": "2025-03-02T05:29:27.313794",
     "exception": false,
     "start_time": "2025-03-02T05:29:20.166038",
     "status": "completed"
    },
    "tags": []
   },
   "outputs": [],
   "source": [
    "import torch\n",
    "import torch.nn as nn\n",
    "import torch.optim as optim\n",
    "import torchvision\n",
    "from torchvision import datasets, transforms\n",
    "from torch.utils.data import DataLoader, random_split\n",
    "\n",
    "from tqdm import tqdm\n",
    "import numpy as np\n",
    "import random\n",
    "# 하이퍼파라미터 설정\n",
    "batch_size = 128\n",
    "epochs = 90\n",
    "learning_rate = 0.01\n",
    "MOMENTUM = 0.9\n",
    "WEIGHT_DECAY = 5e-4\n",
    "device = torch.device(\"cuda\" if torch.cuda.is_available() else \"cpu\")"
   ]
  },
  {
   "cell_type": "markdown",
   "id": "32caafdd",
   "metadata": {
    "papermill": {
     "duration": 0.003072,
     "end_time": "2025-03-02T05:29:27.320533",
     "exception": false,
     "start_time": "2025-03-02T05:29:27.317461",
     "status": "completed"
    },
    "tags": []
   },
   "source": [
    "# 데이터 전처리 및 로드"
   ]
  },
  {
   "cell_type": "code",
   "execution_count": 2,
   "id": "2e8d9779",
   "metadata": {
    "execution": {
     "iopub.execute_input": "2025-03-02T05:29:27.327856Z",
     "iopub.status.busy": "2025-03-02T05:29:27.327510Z",
     "iopub.status.idle": "2025-03-02T05:29:35.104577Z",
     "shell.execute_reply": "2025-03-02T05:29:35.103592Z"
    },
    "papermill": {
     "duration": 7.783107,
     "end_time": "2025-03-02T05:29:35.106788",
     "exception": false,
     "start_time": "2025-03-02T05:29:27.323681",
     "status": "completed"
    },
    "tags": []
   },
   "outputs": [
    {
     "name": "stdout",
     "output_type": "stream",
     "text": [
      "Downloading https://www.cs.toronto.edu/~kriz/cifar-10-python.tar.gz to ./data/cifar-10-python.tar.gz\n"
     ]
    },
    {
     "name": "stderr",
     "output_type": "stream",
     "text": [
      "\r",
      "  0%|          | 0.00/170M [00:00<?, ?B/s]"
     ]
    },
    {
     "name": "stderr",
     "output_type": "stream",
     "text": [
      "\r",
      "  0%|          | 65.5k/170M [00:00<04:31, 628kB/s]"
     ]
    },
    {
     "name": "stderr",
     "output_type": "stream",
     "text": [
      "\r",
      "  0%|          | 229k/170M [00:00<02:26, 1.16MB/s]"
     ]
    },
    {
     "name": "stderr",
     "output_type": "stream",
     "text": [
      "\r",
      "  1%|          | 918k/170M [00:00<00:47, 3.55MB/s]"
     ]
    },
    {
     "name": "stderr",
     "output_type": "stream",
     "text": [
      "\r",
      "  2%|▏         | 3.70M/170M [00:00<00:13, 12.3MB/s]"
     ]
    },
    {
     "name": "stderr",
     "output_type": "stream",
     "text": [
      "\r",
      "  6%|▌         | 9.76M/170M [00:00<00:05, 27.6MB/s]"
     ]
    },
    {
     "name": "stderr",
     "output_type": "stream",
     "text": [
      "\r",
      "  9%|▉         | 16.1M/170M [00:00<00:04, 37.1MB/s]"
     ]
    },
    {
     "name": "stderr",
     "output_type": "stream",
     "text": [
      "\r",
      " 13%|█▎        | 22.5M/170M [00:00<00:03, 43.2MB/s]"
     ]
    },
    {
     "name": "stderr",
     "output_type": "stream",
     "text": [
      "\r",
      " 17%|█▋        | 28.9M/170M [00:00<00:03, 47.1MB/s]"
     ]
    },
    {
     "name": "stderr",
     "output_type": "stream",
     "text": [
      "\r",
      " 21%|██        | 35.3M/170M [00:01<00:02, 49.6MB/s]"
     ]
    },
    {
     "name": "stderr",
     "output_type": "stream",
     "text": [
      "\r",
      " 25%|██▍       | 41.8M/170M [00:01<00:02, 51.4MB/s]"
     ]
    },
    {
     "name": "stderr",
     "output_type": "stream",
     "text": [
      "\r",
      " 28%|██▊       | 48.2M/170M [00:01<00:02, 52.5MB/s]"
     ]
    },
    {
     "name": "stderr",
     "output_type": "stream",
     "text": [
      "\r",
      " 32%|███▏      | 54.6M/170M [00:01<00:02, 53.3MB/s]"
     ]
    },
    {
     "name": "stderr",
     "output_type": "stream",
     "text": [
      "\r",
      " 36%|███▌      | 61.0M/170M [00:01<00:02, 53.9MB/s]"
     ]
    },
    {
     "name": "stderr",
     "output_type": "stream",
     "text": [
      "\r",
      " 40%|███▉      | 67.5M/170M [00:01<00:01, 54.3MB/s]"
     ]
    },
    {
     "name": "stderr",
     "output_type": "stream",
     "text": [
      "\r",
      " 43%|████▎     | 73.9M/170M [00:01<00:01, 54.5MB/s]"
     ]
    },
    {
     "name": "stderr",
     "output_type": "stream",
     "text": [
      "\r",
      " 47%|████▋     | 80.2M/170M [00:01<00:01, 54.6MB/s]"
     ]
    },
    {
     "name": "stderr",
     "output_type": "stream",
     "text": [
      "\r",
      " 51%|█████     | 86.7M/170M [00:01<00:01, 54.8MB/s]"
     ]
    },
    {
     "name": "stderr",
     "output_type": "stream",
     "text": [
      "\r",
      " 55%|█████▍    | 93.2M/170M [00:02<00:01, 55.0MB/s]"
     ]
    },
    {
     "name": "stderr",
     "output_type": "stream",
     "text": [
      "\r",
      " 58%|█████▊    | 99.6M/170M [00:02<00:01, 55.0MB/s]"
     ]
    },
    {
     "name": "stderr",
     "output_type": "stream",
     "text": [
      "\r",
      " 62%|██████▏   | 106M/170M [00:02<00:01, 55.1MB/s] "
     ]
    },
    {
     "name": "stderr",
     "output_type": "stream",
     "text": [
      "\r",
      " 66%|██████▌   | 113M/170M [00:02<00:01, 55.1MB/s]"
     ]
    },
    {
     "name": "stderr",
     "output_type": "stream",
     "text": [
      "\r",
      " 70%|██████▉   | 119M/170M [00:02<00:00, 55.2MB/s]"
     ]
    },
    {
     "name": "stderr",
     "output_type": "stream",
     "text": [
      "\r",
      " 74%|███████▎  | 125M/170M [00:02<00:00, 55.1MB/s]"
     ]
    },
    {
     "name": "stderr",
     "output_type": "stream",
     "text": [
      "\r",
      " 77%|███████▋  | 132M/170M [00:02<00:00, 55.0MB/s]"
     ]
    },
    {
     "name": "stderr",
     "output_type": "stream",
     "text": [
      "\r",
      " 81%|████████  | 138M/170M [00:02<00:00, 55.1MB/s]"
     ]
    },
    {
     "name": "stderr",
     "output_type": "stream",
     "text": [
      "\r",
      " 85%|████████▍ | 145M/170M [00:02<00:00, 55.1MB/s]"
     ]
    },
    {
     "name": "stderr",
     "output_type": "stream",
     "text": [
      "\r",
      " 89%|████████▊ | 151M/170M [00:03<00:00, 55.0MB/s]"
     ]
    },
    {
     "name": "stderr",
     "output_type": "stream",
     "text": [
      "\r",
      " 92%|█████████▏| 157M/170M [00:03<00:00, 54.9MB/s]"
     ]
    },
    {
     "name": "stderr",
     "output_type": "stream",
     "text": [
      "\r",
      " 96%|█████████▌| 164M/170M [00:03<00:00, 54.9MB/s]"
     ]
    },
    {
     "name": "stderr",
     "output_type": "stream",
     "text": [
      "\r",
      "100%|█████████▉| 170M/170M [00:03<00:00, 54.7MB/s]"
     ]
    },
    {
     "name": "stderr",
     "output_type": "stream",
     "text": [
      "\r",
      "100%|██████████| 170M/170M [00:03<00:00, 49.3MB/s]"
     ]
    },
    {
     "name": "stderr",
     "output_type": "stream",
     "text": [
      "\n"
     ]
    },
    {
     "name": "stdout",
     "output_type": "stream",
     "text": [
      "Extracting ./data/cifar-10-python.tar.gz to ./data\n"
     ]
    },
    {
     "name": "stdout",
     "output_type": "stream",
     "text": [
      "Files already downloaded and verified\n"
     ]
    },
    {
     "name": "stdout",
     "output_type": "stream",
     "text": [
      "Train dataset size: 50000\n",
      "Test dataset size: 10000\n"
     ]
    },
    {
     "name": "stdout",
     "output_type": "stream",
     "text": [
      "Batch image shape: torch.Size([128, 3, 227, 227])\n",
      "Batch labels: tensor([6, 8, 4, 6, 3])\n"
     ]
    }
   ],
   "source": [
    "# 데이터 경로\n",
    "root = \"/kaggle/input/islvrc-2012-10-pecent-subset\"\n",
    "\n",
    "transform = transforms.Compose([\n",
    "    transforms.Resize((227, 227)),  # AlexNet의 입력 크기(227x227)로 조정\n",
    "    transforms.ToTensor(),\n",
    "    # RGB, ImageNet 데이터셋의 평균과 표준편차를 기반으로 설정된 값\n",
    "    # https://velog.io/@gcoh5589/0.485-0.456-0.406\n",
    "    # 만약, 자체 데이터셋으로 학습할 경우, 이미지 RGB의 평균과 표준편차를 구해서 정규화 값을 변경하는 것이 좋다고 함\n",
    "    # https://stackoverflow.com/questions/58151507/why-pytorch-officially-use-mean-0-485-0-456-0-406-and-std-0-229-0-224-0-2\n",
    "    transforms.Normalize(mean=[0.485, 0.456, 0.406], std=[0.229, 0.224, 0.225]), \n",
    "])\n",
    "\n",
    "# # 전체 데이터셋 로드(ILSVRC)\n",
    "# dataset = datasets.ImageFolder(root=root, transform=transform)\n",
    "\n",
    "# # Train/Test , 8:2\n",
    "# train_size = int(0.8 * len(dataset))\n",
    "# test_size = len(dataset) - train_size\n",
    "# trainset, testset = random_split(dataset, [train_size, test_size])\n",
    "\n",
    "# # DataLoader 생성 \n",
    "# # shuffle : 각 에폭마다 데이터가 학습되는 순서가 변경,test일 경우 False로 설정(평가의 일관성과 재현성) \n",
    "# # num_workers : dataset의 데이터를 gpu로 전송할 때 필요한 전처리를 수행할 때 사용하는 subprocess의 수\n",
    "# trainloader = DataLoader(trainset, batch_size=batch_size, shuffle=True, num_workers=2)\n",
    "# testloader = DataLoader(testset, batch_size=batch_size, shuffle=False, num_workers=2)\n",
    "\n",
    "# 전체 데이터셋 로드(CIFAR10)\n",
    "trainset = torchvision.datasets.CIFAR10(root='./data', train=True, download=True, transform=transform)\n",
    "trainloader = torch.utils.data.DataLoader(trainset, batch_size=batch_size, shuffle=True, num_workers=2)\n",
    "testset = torchvision.datasets.CIFAR10(root='./data', train=False, download=True, transform=transform)\n",
    "testloader = torch.utils.data.DataLoader(testset, batch_size=batch_size, shuffle=False, num_workers=2)\n",
    "\n",
    "# 데이터셋 크기 확인\n",
    "print(f\"Train dataset size: {len(trainset)}\")\n",
    "print(f\"Test dataset size: {len(testset)}\")\n",
    "\n",
    "# 첫 번째 배치 확인 (이미지와 라벨)\n",
    "images, labels = next(iter(trainloader))\n",
    "print(f\"Batch image shape: {images.shape}\")  # (batch_size, channels, height, width)\n",
    "print(f\"Batch labels: {labels[:5]}\")  # 첫 5개 라벨 확인"
   ]
  },
  {
   "cell_type": "markdown",
   "id": "91642acb",
   "metadata": {
    "papermill": {
     "duration": 0.004814,
     "end_time": "2025-03-02T05:29:35.117136",
     "exception": false,
     "start_time": "2025-03-02T05:29:35.112322",
     "status": "completed"
    },
    "tags": []
   },
   "source": [
    "# AlexNet 모델 정의"
   ]
  },
  {
   "cell_type": "code",
   "execution_count": 3,
   "id": "ba1042d0",
   "metadata": {
    "execution": {
     "iopub.execute_input": "2025-03-02T05:29:35.128217Z",
     "iopub.status.busy": "2025-03-02T05:29:35.127910Z",
     "iopub.status.idle": "2025-03-02T05:29:35.136546Z",
     "shell.execute_reply": "2025-03-02T05:29:35.135719Z"
    },
    "papermill": {
     "duration": 0.015856,
     "end_time": "2025-03-02T05:29:35.138035",
     "exception": false,
     "start_time": "2025-03-02T05:29:35.122179",
     "status": "completed"
    },
    "tags": []
   },
   "outputs": [],
   "source": [
    "class AlexNet(nn.Module):\n",
    "    def __init__(self, num_classes: int = 1000, dropout: float = 0.5) -> None:\n",
    "        super(AlexNet, self).__init__()\n",
    "        self.layers = nn.Sequential(\n",
    "            nn.Conv2d(3, 96, kernel_size=11, stride=4, padding=0), # 1번 레이어 (48x2)\n",
    "            nn.ReLU(inplace=True),\n",
    "            nn.LocalResponseNorm(alpha=1e-4, beta=0.75, k=2, size=5), # LRN\n",
    "            nn.MaxPool2d(kernel_size=3, stride=2), # stride < kernel_size일 경우 overlapping pooling\n",
    "            nn.Conv2d(96, 256, kernel_size=5, stride=1, padding=2), # 2번 레이어 (128x2)\n",
    "            nn.ReLU(inplace=True),\n",
    "            nn.LocalResponseNorm(alpha=1e-4, beta=0.75, k=2, size=5), # LRN\n",
    "            nn.MaxPool2d(kernel_size=3, stride=2), # overlapping pooling\n",
    "            nn.Conv2d(256, 384, kernel_size=3, stride=1, padding=1), # 3번 레이어 (192x2)\n",
    "            nn.ReLU(inplace=True),\n",
    "            nn.Conv2d(384, 384, kernel_size=3, stride=1, padding=1), # 4번 레이어 (192x2)\n",
    "            nn.ReLU(inplace=True),\n",
    "            nn.Conv2d(384, 256, kernel_size=3, stride=1, padding=1), # 5번 레이어 (128x2)\n",
    "            nn.ReLU(inplace=True),\n",
    "            nn.MaxPool2d(kernel_size=3, stride=2) # overlapping pooling\n",
    "        )\n",
    "        self.avgpool = nn.AdaptiveAvgPool2d((6, 6)) # 내부적으로 적절한 kernel size와 stride 값을 계산하여 풀링을 수행\n",
    "        self.classifier = nn.Sequential(\n",
    "            nn.Dropout(p=dropout), # dropout : 0.5\n",
    "            nn.Linear(256 * 6 * 6, 4096), # 6번 레이어\n",
    "            nn.ReLU(inplace=True),\n",
    "            nn.Dropout(p=dropout),# dropout : 0.5\n",
    "            nn.Linear(4096, 4096), # 7번 레이어\n",
    "            nn.ReLU(inplace=True),\n",
    "            nn.Linear(4096, num_classes) # 8번 레이어\n",
    "        )\n",
    "    #     self._init_bias() # 가중치 초기화\n",
    "        \n",
    "    # def _init_bias(self):\n",
    "    #     for layer in self.layers:\n",
    "    #         if isinstance(layer, nn.Conv2d):\n",
    "    #             # 편차를 0.01로 하는 zero-mean 가우시안 정규 분포를 모든 레이어의 weight를 초기화\n",
    "    #             # neuron bias: 2, 4, 5번째 convolution 레이어와 fully-connected 레이어에 상수 1로 적용하고 이외 레이어는 0을 적용\n",
    "    #             nn.init.normal_(layer.weight, mean=0, std=0.01) # nn.init.normal_(input,mean=0.0,std=0.1) : input tensor를 N(mean,str^2)의 정규분포에 따라 초기화\n",
    "    #             nn.init.constant_(layer.bias, 0) # nn.init.constant_(input,val) : input tensor를 val값으로 채운다.\n",
    "\n",
    "    #     nn.init.constant_(self.layers[4].bias, 1) # CNN 2번 레이어 (128x2)\n",
    "    #     nn.init.constant_(self.layers[10].bias, 1) # CNN 4번 레이어 (192x2)\n",
    "    #     nn.init.constant_(self.layers[12].bias, 1) # CNN 5번 레이어 (128x2)\n",
    "    #     nn.init.constant_(self.classifier[1].bias, 1) # MLP 6번 레이어\n",
    "    #     nn.init.constant_(self.classifier[4].bias, 1) # MLP 7번 레이어\n",
    "    #     nn.init.constant_(self.classifier[6].bias, 1) # MLP 8번 레이어\n",
    "        \n",
    "    def forward(self, x):\n",
    "        x = self.layers(x) # CNN\n",
    "        x = self.avgpool(x) # FCN의 입력 이미지 shape이 항상 6x6이 되는 것을 보장\n",
    "        x = torch.flatten(x, 1) # FCN input\n",
    "        x = self.classifier(x) # FCN\n",
    "        return x"
   ]
  },
  {
   "cell_type": "markdown",
   "id": "c291d990",
   "metadata": {
    "papermill": {
     "duration": 0.00633,
     "end_time": "2025-03-02T05:29:35.152929",
     "exception": false,
     "start_time": "2025-03-02T05:29:35.146599",
     "status": "completed"
    },
    "tags": []
   },
   "source": [
    "## AlexNet 구조 확인"
   ]
  },
  {
   "cell_type": "code",
   "execution_count": 4,
   "id": "a8834517",
   "metadata": {
    "execution": {
     "iopub.execute_input": "2025-03-02T05:29:35.163725Z",
     "iopub.status.busy": "2025-03-02T05:29:35.163400Z",
     "iopub.status.idle": "2025-03-02T05:29:36.553714Z",
     "shell.execute_reply": "2025-03-02T05:29:36.552695Z"
    },
    "papermill": {
     "duration": 1.39757,
     "end_time": "2025-03-02T05:29:36.555386",
     "exception": false,
     "start_time": "2025-03-02T05:29:35.157816",
     "status": "completed"
    },
    "tags": []
   },
   "outputs": [
    {
     "name": "stdout",
     "output_type": "stream",
     "text": [
      "----------------------------------------------------------------\n",
      "        Layer (type)               Output Shape         Param #\n",
      "================================================================\n",
      "            Conv2d-1           [-1, 96, 55, 55]          34,944\n",
      "              ReLU-2           [-1, 96, 55, 55]               0\n",
      " LocalResponseNorm-3           [-1, 96, 55, 55]               0\n",
      "         MaxPool2d-4           [-1, 96, 27, 27]               0\n",
      "            Conv2d-5          [-1, 256, 27, 27]         614,656\n",
      "              ReLU-6          [-1, 256, 27, 27]               0\n",
      " LocalResponseNorm-7          [-1, 256, 27, 27]               0\n",
      "         MaxPool2d-8          [-1, 256, 13, 13]               0\n",
      "            Conv2d-9          [-1, 384, 13, 13]         885,120\n",
      "             ReLU-10          [-1, 384, 13, 13]               0\n",
      "           Conv2d-11          [-1, 384, 13, 13]       1,327,488\n",
      "             ReLU-12          [-1, 384, 13, 13]               0\n",
      "           Conv2d-13          [-1, 256, 13, 13]         884,992\n",
      "             ReLU-14          [-1, 256, 13, 13]               0\n",
      "        MaxPool2d-15            [-1, 256, 6, 6]               0\n",
      "AdaptiveAvgPool2d-16            [-1, 256, 6, 6]               0\n",
      "          Dropout-17                 [-1, 9216]               0\n",
      "           Linear-18                 [-1, 4096]      37,752,832\n",
      "             ReLU-19                 [-1, 4096]               0\n",
      "          Dropout-20                 [-1, 4096]               0\n",
      "           Linear-21                 [-1, 4096]      16,781,312\n",
      "             ReLU-22                 [-1, 4096]               0\n",
      "           Linear-23                   [-1, 10]          40,970\n",
      "================================================================\n",
      "Total params: 58,322,314\n",
      "Trainable params: 58,322,314\n",
      "Non-trainable params: 0\n",
      "----------------------------------------------------------------\n",
      "Input size (MB): 0.59\n",
      "Forward/backward pass size (MB): 14.79\n",
      "Params size (MB): 222.48\n",
      "Estimated Total Size (MB): 237.86\n",
      "----------------------------------------------------------------\n"
     ]
    }
   ],
   "source": [
    "import torchsummary\n",
    "model = AlexNet(num_classes = 10).to(device) # 데이터 셋의 클래스 수 : 10개\n",
    "\n",
    "# AlexNet의 Image 입력 사이즈는 (3, 227, 227), 원래 논문에서는 3 x 224 x 224가 맞지만 오류인 것으로 알려졌고 ,구조상 227이 맞다고 함 \n",
    "torchsummary.summary(model, input_size=(3, 227, 227), device='cuda')"
   ]
  },
  {
   "cell_type": "markdown",
   "id": "68b33b5e",
   "metadata": {
    "papermill": {
     "duration": 0.00492,
     "end_time": "2025-03-02T05:29:36.565736",
     "exception": false,
     "start_time": "2025-03-02T05:29:36.560816",
     "status": "completed"
    },
    "tags": []
   },
   "source": [
    "# "
   ]
  },
  {
   "cell_type": "markdown",
   "id": "ee5d08bf",
   "metadata": {
    "papermill": {
     "duration": 0.004794,
     "end_time": "2025-03-02T05:29:36.575466",
     "exception": false,
     "start_time": "2025-03-02T05:29:36.570672",
     "status": "completed"
    },
    "tags": []
   },
   "source": [
    "# 손실 함수, 옵티마이저, lr scheduler 설정"
   ]
  },
  {
   "cell_type": "code",
   "execution_count": 5,
   "id": "b8bf16bb",
   "metadata": {
    "execution": {
     "iopub.execute_input": "2025-03-02T05:29:36.586305Z",
     "iopub.status.busy": "2025-03-02T05:29:36.586033Z",
     "iopub.status.idle": "2025-03-02T05:29:36.593007Z",
     "shell.execute_reply": "2025-03-02T05:29:36.592165Z"
    },
    "papermill": {
     "duration": 0.013855,
     "end_time": "2025-03-02T05:29:36.594251",
     "exception": false,
     "start_time": "2025-03-02T05:29:36.580396",
     "status": "completed"
    },
    "tags": []
   },
   "outputs": [
    {
     "name": "stderr",
     "output_type": "stream",
     "text": [
      "/usr/local/lib/python3.10/dist-packages/torch/optim/lr_scheduler.py:62: UserWarning: The verbose parameter is deprecated. Please use get_last_lr() to access the learning rate.\n",
      "  warnings.warn(\n"
     ]
    }
   ],
   "source": [
    "criterion = nn.CrossEntropyLoss()\n",
    "optimizer = optim.SGD(momentum=MOMENTUM, weight_decay=WEIGHT_DECAY, params=model.parameters(), lr=learning_rate)\n",
    "\n",
    "# adjust learning rate: validation error가 현재 lr로 더 이상 개선 안되면 lr을 10으로 나눠줌. 논문에서는 0.01을 lr 초기 값으로 총 3번 줄어듦\n",
    "# factor : lr 업데이트 시 lr = lr*factor로 계산됨\n",
    "# patience : 검증 손실값이 개선되지 않은 상태를 얼마나 허용할 것인지를 설정하는 정수값. 기본값은 10으로, 10번의 연속적인 epoch 동안 검증 손실값이 개선되지 않으면 learning rate를 감소시킴\n",
    "lr_scheduler = optim.lr_scheduler.ReduceLROnPlateau(optimizer=optimizer, factor=0.1, verbose=True, patience=4) # used if valid error doesn't improve."
   ]
  },
  {
   "cell_type": "markdown",
   "id": "138588c5",
   "metadata": {
    "papermill": {
     "duration": 0.004746,
     "end_time": "2025-03-02T05:29:36.604086",
     "exception": false,
     "start_time": "2025-03-02T05:29:36.599340",
     "status": "completed"
    },
    "tags": []
   },
   "source": [
    "# train"
   ]
  },
  {
   "cell_type": "code",
   "execution_count": 6,
   "id": "2f30f701",
   "metadata": {
    "execution": {
     "iopub.execute_input": "2025-03-02T05:29:36.614743Z",
     "iopub.status.busy": "2025-03-02T05:29:36.614534Z",
     "iopub.status.idle": "2025-03-02T05:29:36.619317Z",
     "shell.execute_reply": "2025-03-02T05:29:36.618651Z"
    },
    "papermill": {
     "duration": 0.011374,
     "end_time": "2025-03-02T05:29:36.620464",
     "exception": false,
     "start_time": "2025-03-02T05:29:36.609090",
     "status": "completed"
    },
    "tags": []
   },
   "outputs": [],
   "source": [
    "def train(model, data_loader, loss_fn, optimizer, device):\n",
    "    model.train()\n",
    "    running_loss = 0.0\n",
    "    corr = 0.0\n",
    "    for images, labels in data_loader:\n",
    "        images, labels = images.to(device), labels.to(device)\n",
    "        \n",
    "        # 누적 Gradient 초기화\n",
    "        optimizer.zero_grad()\n",
    "\n",
    "        # forward\n",
    "        outputs = model(images)\n",
    "\n",
    "        # loss\n",
    "        loss_fn = criterion(outputs, labels)\n",
    "        # backward\n",
    "        loss_fn.backward()\n",
    "        # Gradient 업데이트 \n",
    "        optimizer.step()\n",
    "        # 누적 loss 업데이트\n",
    "        running_loss += loss_fn.item()*images.size(0) # 배치 전체 loss 계산\n",
    "        # max probability와 max index를 반환\n",
    "        # max index만 사용해서 실제 정답과 비교\n",
    "        _, pred = torch.max(outputs, 1)\n",
    "        # 정확히 맞춘 label의 합계를 계산\n",
    "        corr += pred.eq(labels).sum().item()\n",
    "    \n",
    "    # 누적된 정답수를 전체 개수로 나누어 전체 정확도 계산\n",
    "    acc = corr / len(data_loader.dataset)\n",
    "    \n",
    "    # 전체 loss와 전체 accuracy 반환\n",
    "    # train_loss, train_acc\n",
    "    return running_loss / len(data_loader.dataset), acc"
   ]
  },
  {
   "cell_type": "markdown",
   "id": "aa8381ff",
   "metadata": {
    "papermill": {
     "duration": 0.004768,
     "end_time": "2025-03-02T05:29:36.630093",
     "exception": false,
     "start_time": "2025-03-02T05:29:36.625325",
     "status": "completed"
    },
    "tags": []
   },
   "source": [
    "# test"
   ]
  },
  {
   "cell_type": "code",
   "execution_count": 7,
   "id": "9c3486a3",
   "metadata": {
    "execution": {
     "iopub.execute_input": "2025-03-02T05:29:36.640645Z",
     "iopub.status.busy": "2025-03-02T05:29:36.640448Z",
     "iopub.status.idle": "2025-03-02T05:29:36.644719Z",
     "shell.execute_reply": "2025-03-02T05:29:36.644084Z"
    },
    "papermill": {
     "duration": 0.01088,
     "end_time": "2025-03-02T05:29:36.645831",
     "exception": false,
     "start_time": "2025-03-02T05:29:36.634951",
     "status": "completed"
    },
    "tags": []
   },
   "outputs": [],
   "source": [
    "# 테스트 루프\n",
    "def test(model, data_loader, loss_fn, device):\n",
    "    model.eval()\n",
    "    with torch.no_grad():\n",
    "        # loss와 accuracy 계산을 위한 임시 변수\n",
    "        corr = 0.0\n",
    "        running_loss = 0.0\n",
    "        for images, labels in data_loader:\n",
    "            images, labels = images.to(device), labels.to(device)\n",
    "            outputs = model(images)\n",
    "            _, predicted = torch.max(outputs, 1)\n",
    "            corr += (predicted == labels).sum().item()\n",
    "            running_loss += loss_fn(outputs, labels).item() * images.size(0)\n",
    "    acc = corr / len(data_loader.dataset)\n",
    "    return running_loss / len(data_loader.dataset), acc"
   ]
  },
  {
   "cell_type": "markdown",
   "id": "d5616367",
   "metadata": {
    "papermill": {
     "duration": 0.004824,
     "end_time": "2025-03-02T05:29:36.655539",
     "exception": false,
     "start_time": "2025-03-02T05:29:36.650715",
     "status": "completed"
    },
    "tags": []
   },
   "source": [
    "# Evaluation"
   ]
  },
  {
   "cell_type": "code",
   "execution_count": 8,
   "id": "a245b0ce",
   "metadata": {
    "execution": {
     "iopub.execute_input": "2025-03-02T05:29:36.666081Z",
     "iopub.status.busy": "2025-03-02T05:29:36.665843Z"
    },
    "papermill": {
     "duration": null,
     "end_time": null,
     "exception": false,
     "start_time": "2025-03-02T05:29:36.660478",
     "status": "running"
    },
    "tags": []
   },
   "outputs": [
    {
     "name": "stderr",
     "output_type": "stream",
     "text": [
      "\r",
      "  0%|          | 0/90 [00:00<?, ?it/s]"
     ]
    },
    {
     "name": "stderr",
     "output_type": "stream",
     "text": [
      "\r",
      "  1%|          | 1/90 [01:22<2:01:46, 82.10s/it]"
     ]
    },
    {
     "name": "stdout",
     "output_type": "stream",
     "text": [
      "[INFO] val_loss has been improved from inf to 1.83192. Saving Model!\n",
      "epoch 01, loss: 2.16399, acc: 0.18482, val_loss: 1.83192, val_accuracy: 0.31550\n"
     ]
    },
    {
     "name": "stderr",
     "output_type": "stream",
     "text": [
      "\r",
      "  2%|▏         | 2/90 [02:44<2:00:17, 82.01s/it]"
     ]
    },
    {
     "name": "stdout",
     "output_type": "stream",
     "text": [
      "[INFO] val_loss has been improved from 1.83192 to 1.38572. Saving Model!\n",
      "epoch 02, loss: 1.61961, acc: 0.40258, val_loss: 1.38572, val_accuracy: 0.48980\n"
     ]
    },
    {
     "name": "stderr",
     "output_type": "stream",
     "text": [
      "\r",
      "  3%|▎         | 3/90 [04:06<1:58:53, 81.99s/it]"
     ]
    },
    {
     "name": "stdout",
     "output_type": "stream",
     "text": [
      "[INFO] val_loss has been improved from 1.38572 to 1.15312. Saving Model!\n",
      "epoch 03, loss: 1.29644, acc: 0.52798, val_loss: 1.15312, val_accuracy: 0.59240\n"
     ]
    },
    {
     "name": "stderr",
     "output_type": "stream",
     "text": [
      "\r",
      "  4%|▍         | 4/90 [05:28<1:57:39, 82.08s/it]"
     ]
    },
    {
     "name": "stdout",
     "output_type": "stream",
     "text": [
      "[INFO] val_loss has been improved from 1.15312 to 0.96966. Saving Model!\n",
      "epoch 04, loss: 1.05671, acc: 0.62466, val_loss: 0.96966, val_accuracy: 0.65670\n"
     ]
    },
    {
     "name": "stderr",
     "output_type": "stream",
     "text": [
      "\r",
      "  6%|▌         | 5/90 [06:50<1:56:12, 82.03s/it]"
     ]
    },
    {
     "name": "stdout",
     "output_type": "stream",
     "text": [
      "[INFO] val_loss has been improved from 0.96966 to 0.83109. Saving Model!\n",
      "epoch 05, loss: 0.87912, acc: 0.68892, val_loss: 0.83109, val_accuracy: 0.71270\n"
     ]
    },
    {
     "name": "stderr",
     "output_type": "stream",
     "text": [
      "\r",
      "  7%|▋         | 6/90 [08:13<1:55:16, 82.33s/it]"
     ]
    },
    {
     "name": "stdout",
     "output_type": "stream",
     "text": [
      "[INFO] val_loss has been improved from 0.83109 to 0.76083. Saving Model!\n",
      "epoch 06, loss: 0.74926, acc: 0.73582, val_loss: 0.76083, val_accuracy: 0.73630\n"
     ]
    },
    {
     "name": "stderr",
     "output_type": "stream",
     "text": [
      "\r",
      "  8%|▊         | 7/90 [09:35<1:53:45, 82.24s/it]"
     ]
    },
    {
     "name": "stdout",
     "output_type": "stream",
     "text": [
      "[INFO] val_loss has been improved from 0.76083 to 0.62722. Saving Model!\n",
      "epoch 07, loss: 0.66344, acc: 0.76900, val_loss: 0.62722, val_accuracy: 0.78640\n"
     ]
    },
    {
     "name": "stderr",
     "output_type": "stream",
     "text": [
      "\r",
      "  9%|▉         | 8/90 [10:57<1:52:31, 82.33s/it]"
     ]
    },
    {
     "name": "stdout",
     "output_type": "stream",
     "text": [
      "[INFO] val_loss has been improved from 0.62722 to 0.61207. Saving Model!\n",
      "epoch 08, loss: 0.58703, acc: 0.79448, val_loss: 0.61207, val_accuracy: 0.79180\n"
     ]
    },
    {
     "name": "stderr",
     "output_type": "stream",
     "text": [
      "\r",
      " 10%|█         | 9/90 [12:20<1:51:14, 82.40s/it]"
     ]
    },
    {
     "name": "stdout",
     "output_type": "stream",
     "text": [
      "[INFO] val_loss has been improved from 0.61207 to 0.57493. Saving Model!\n",
      "epoch 09, loss: 0.52032, acc: 0.81820, val_loss: 0.57493, val_accuracy: 0.80290\n"
     ]
    },
    {
     "name": "stderr",
     "output_type": "stream",
     "text": [
      "\r",
      " 11%|█         | 10/90 [13:42<1:49:55, 82.44s/it]"
     ]
    },
    {
     "name": "stdout",
     "output_type": "stream",
     "text": [
      "epoch 10, loss: 0.46498, acc: 0.83868, val_loss: 0.59538, val_accuracy: 0.79820\n"
     ]
    },
    {
     "name": "stderr",
     "output_type": "stream",
     "text": [
      "\r",
      " 12%|█▏        | 11/90 [15:05<1:48:43, 82.57s/it]"
     ]
    },
    {
     "name": "stdout",
     "output_type": "stream",
     "text": [
      "[INFO] val_loss has been improved from 0.57493 to 0.52668. Saving Model!\n",
      "epoch 11, loss: 0.41290, acc: 0.85594, val_loss: 0.52668, val_accuracy: 0.81990\n"
     ]
    },
    {
     "name": "stderr",
     "output_type": "stream",
     "text": [
      "\r",
      " 13%|█▎        | 12/90 [16:28<1:47:16, 82.52s/it]"
     ]
    },
    {
     "name": "stdout",
     "output_type": "stream",
     "text": [
      "epoch 12, loss: 0.35872, acc: 0.87454, val_loss: 0.52851, val_accuracy: 0.82320\n"
     ]
    },
    {
     "name": "stderr",
     "output_type": "stream",
     "text": [
      "\r",
      " 14%|█▍        | 13/90 [17:50<1:45:59, 82.59s/it]"
     ]
    },
    {
     "name": "stdout",
     "output_type": "stream",
     "text": [
      "[INFO] val_loss has been improved from 0.52668 to 0.49563. Saving Model!\n",
      "epoch 13, loss: 0.31814, acc: 0.88934, val_loss: 0.49563, val_accuracy: 0.83720\n"
     ]
    },
    {
     "name": "stderr",
     "output_type": "stream",
     "text": [
      "\r",
      " 16%|█▌        | 14/90 [19:12<1:44:25, 82.45s/it]"
     ]
    },
    {
     "name": "stdout",
     "output_type": "stream",
     "text": [
      "epoch 14, loss: 0.28876, acc: 0.89872, val_loss: 0.50674, val_accuracy: 0.83370\n"
     ]
    },
    {
     "name": "stderr",
     "output_type": "stream",
     "text": [
      "\r",
      " 17%|█▋        | 15/90 [20:35<1:43:16, 82.62s/it]"
     ]
    },
    {
     "name": "stdout",
     "output_type": "stream",
     "text": [
      "[INFO] val_loss has been improved from 0.49563 to 0.48776. Saving Model!\n",
      "epoch 15, loss: 0.25057, acc: 0.91196, val_loss: 0.48776, val_accuracy: 0.84520\n"
     ]
    },
    {
     "name": "stderr",
     "output_type": "stream",
     "text": [
      "\r",
      " 18%|█▊        | 16/90 [21:58<1:42:01, 82.72s/it]"
     ]
    },
    {
     "name": "stdout",
     "output_type": "stream",
     "text": [
      "epoch 16, loss: 0.23026, acc: 0.91922, val_loss: 0.51178, val_accuracy: 0.83970\n"
     ]
    },
    {
     "name": "stderr",
     "output_type": "stream",
     "text": [
      "\r",
      " 19%|█▉        | 17/90 [23:20<1:40:20, 82.47s/it]"
     ]
    },
    {
     "name": "stdout",
     "output_type": "stream",
     "text": [
      "epoch 17, loss: 0.19708, acc: 0.93092, val_loss: 0.52482, val_accuracy: 0.84580\n"
     ]
    },
    {
     "name": "stderr",
     "output_type": "stream",
     "text": [
      "\r",
      " 20%|██        | 18/90 [24:43<1:38:55, 82.43s/it]"
     ]
    },
    {
     "name": "stdout",
     "output_type": "stream",
     "text": [
      "epoch 18, loss: 0.17738, acc: 0.93788, val_loss: 0.54221, val_accuracy: 0.84520\n"
     ]
    },
    {
     "name": "stderr",
     "output_type": "stream",
     "text": [
      "\r",
      " 21%|██        | 19/90 [26:05<1:37:26, 82.34s/it]"
     ]
    },
    {
     "name": "stdout",
     "output_type": "stream",
     "text": [
      "epoch 19, loss: 0.15382, acc: 0.94572, val_loss: 0.52524, val_accuracy: 0.84640\n"
     ]
    },
    {
     "name": "stderr",
     "output_type": "stream",
     "text": [
      "\r",
      " 22%|██▏       | 20/90 [27:27<1:36:03, 82.34s/it]"
     ]
    },
    {
     "name": "stdout",
     "output_type": "stream",
     "text": [
      "epoch 20, loss: 0.14182, acc: 0.95026, val_loss: 0.53978, val_accuracy: 0.83500\n"
     ]
    },
    {
     "name": "stderr",
     "output_type": "stream",
     "text": [
      "\r",
      " 23%|██▎       | 21/90 [28:49<1:34:37, 82.29s/it]"
     ]
    },
    {
     "name": "stdout",
     "output_type": "stream",
     "text": [
      "epoch 21, loss: 0.06036, acc: 0.98042, val_loss: 0.50984, val_accuracy: 0.86300\n"
     ]
    },
    {
     "name": "stderr",
     "output_type": "stream",
     "text": [
      "\r",
      " 24%|██▍       | 22/90 [30:12<1:33:25, 82.43s/it]"
     ]
    },
    {
     "name": "stdout",
     "output_type": "stream",
     "text": [
      "epoch 22, loss: 0.03875, acc: 0.98828, val_loss: 0.52823, val_accuracy: 0.86570\n"
     ]
    },
    {
     "name": "stderr",
     "output_type": "stream",
     "text": [
      "\r",
      " 26%|██▌       | 23/90 [31:34<1:31:54, 82.31s/it]"
     ]
    },
    {
     "name": "stdout",
     "output_type": "stream",
     "text": [
      "epoch 23, loss: 0.03371, acc: 0.98966, val_loss: 0.53614, val_accuracy: 0.86640\n"
     ]
    },
    {
     "name": "stderr",
     "output_type": "stream",
     "text": [
      "\r",
      " 27%|██▋       | 24/90 [32:56<1:30:26, 82.22s/it]"
     ]
    },
    {
     "name": "stdout",
     "output_type": "stream",
     "text": [
      "epoch 24, loss: 0.02953, acc: 0.99080, val_loss: 0.55322, val_accuracy: 0.86680\n"
     ]
    },
    {
     "name": "stderr",
     "output_type": "stream",
     "text": [
      "\r",
      " 28%|██▊       | 25/90 [34:19<1:29:14, 82.38s/it]"
     ]
    },
    {
     "name": "stdout",
     "output_type": "stream",
     "text": [
      "epoch 25, loss: 0.02715, acc: 0.99150, val_loss: 0.54965, val_accuracy: 0.86880\n"
     ]
    },
    {
     "name": "stderr",
     "output_type": "stream",
     "text": [
      "\r",
      " 29%|██▉       | 26/90 [35:42<1:28:11, 82.68s/it]"
     ]
    },
    {
     "name": "stdout",
     "output_type": "stream",
     "text": [
      "epoch 26, loss: 0.02301, acc: 0.99328, val_loss: 0.55574, val_accuracy: 0.86940\n"
     ]
    },
    {
     "name": "stderr",
     "output_type": "stream",
     "text": [
      "\r",
      " 30%|███       | 27/90 [37:05<1:26:51, 82.73s/it]"
     ]
    },
    {
     "name": "stdout",
     "output_type": "stream",
     "text": [
      "epoch 27, loss: 0.02173, acc: 0.99382, val_loss: 0.55804, val_accuracy: 0.86870\n"
     ]
    },
    {
     "name": "stderr",
     "output_type": "stream",
     "text": [
      "\r",
      " 31%|███       | 28/90 [38:27<1:25:07, 82.38s/it]"
     ]
    },
    {
     "name": "stdout",
     "output_type": "stream",
     "text": [
      "epoch 28, loss: 0.02179, acc: 0.99394, val_loss: 0.56151, val_accuracy: 0.86900\n"
     ]
    },
    {
     "name": "stderr",
     "output_type": "stream",
     "text": [
      "\r",
      " 32%|███▏      | 29/90 [39:49<1:23:50, 82.47s/it]"
     ]
    }
   ],
   "source": [
    "min_loss = np.inf\n",
    "train_losses, train_accuracies = [], []\n",
    "val_losses, val_accuracies = [], []\n",
    "# Epoch 별 train & test\n",
    "for epoch in tqdm(range(epochs)):\n",
    "    # Model Training\n",
    "    # train result\n",
    "    train_loss, train_acc = train(model, trainloader, criterion, optimizer, device)\n",
    "\n",
    "    # validation result\n",
    "    val_loss, val_acc = test(model, testloader, criterion, device)   \n",
    "    \n",
    "    # val_loss 가 개선되었다면 min_loss를 갱신하고 model의 가중치(weights)를 저장\n",
    "    if val_loss < min_loss:\n",
    "        print(f'[INFO] val_loss has been improved from {min_loss:.5f} to {val_loss:.5f}. Saving Model!')\n",
    "        min_loss = val_loss\n",
    "        # torch.save(model.state_dict(), f'{MODEL_NAME}.pth')\n",
    "\n",
    "    # learning rate update\n",
    "    lr_scheduler.step(metrics=val_loss)\n",
    "    \n",
    "    # Epoch 별 결과\n",
    "    print(f'epoch {epoch+1:02d}, loss: {train_loss:.5f}, acc: {train_acc:.5f}, val_loss: {val_loss:.5f}, val_accuracy: {val_acc:.5f}')\n",
    "    # 결과 저장\n",
    "    train_losses.append(train_loss)\n",
    "    train_accuracies.append(train_acc)\n",
    "    val_losses.append(val_loss)\n",
    "    val_accuracies.append(val_acc)"
   ]
  },
  {
   "cell_type": "markdown",
   "id": "14c4e07a",
   "metadata": {
    "papermill": {
     "duration": null,
     "end_time": null,
     "exception": null,
     "start_time": null,
     "status": "pending"
    },
    "tags": []
   },
   "source": [
    "# train/valid acc, loss 시각화"
   ]
  },
  {
   "cell_type": "code",
   "execution_count": null,
   "id": "c4125207",
   "metadata": {
    "execution": {
     "iopub.execute_input": "2025-03-01T12:57:49.141597Z",
     "iopub.status.busy": "2025-03-01T12:57:49.141224Z",
     "iopub.status.idle": "2025-03-01T12:57:49.145585Z",
     "shell.execute_reply": "2025-03-01T12:57:49.144830Z",
     "shell.execute_reply.started": "2025-03-01T12:57:49.141569Z"
    },
    "papermill": {
     "duration": null,
     "end_time": null,
     "exception": null,
     "start_time": null,
     "status": "pending"
    },
    "tags": []
   },
   "outputs": [],
   "source": [
    "import matplotlib.pyplot as plt\n",
    "def plot_training_history(train_losses, val_losses, train_accuracies, val_accuracies):\n",
    "    epochs = len(train_losses)\n",
    "\n",
    "    # Loss\n",
    "    plt.figure(figsize=(12, 6))\n",
    "\n",
    "    plt.subplot(1, 2, 1)\n",
    "    plt.plot(range(epochs), train_losses, label='Train Loss', color='blue')\n",
    "    plt.plot(range(epochs), val_losses, label='Validation Loss', color='orange')\n",
    "    plt.title('Train vs Validation Loss')\n",
    "    plt.xlabel('Epochs')\n",
    "    plt.ylabel('Loss')\n",
    "    plt.legend()\n",
    "\n",
    "    # Accuracy\n",
    "    plt.subplot(1, 2, 2)\n",
    "    plt.plot(range(epochs), train_accuracies, label='Train Accuracy', color='blue')\n",
    "    plt.plot(range(epochs), val_accuracies, label='Validation Accuracy', color='orange')\n",
    "    plt.title('Train vs Validation Accuracy')\n",
    "    plt.xlabel('Epochs')\n",
    "    plt.ylabel('Accuracy')\n",
    "    plt.legend()\n",
    "\n",
    "    plt.tight_layout()\n",
    "    plt.show()\n",
    "\n",
    "plot_training_history(train_losses, val_losses, train_accuracies, val_accuracies)"
   ]
  },
  {
   "cell_type": "code",
   "execution_count": null,
   "id": "b027c322",
   "metadata": {
    "papermill": {
     "duration": null,
     "end_time": null,
     "exception": null,
     "start_time": null,
     "status": "pending"
    },
    "tags": []
   },
   "outputs": [],
   "source": []
  }
 ],
 "metadata": {
  "kaggle": {
   "accelerator": "gpu",
   "dataSources": [
    {
     "datasetId": 4341022,
     "sourceId": 7457570,
     "sourceType": "datasetVersion"
    }
   ],
   "dockerImageVersionId": 30919,
   "isGpuEnabled": true,
   "isInternetEnabled": true,
   "language": "python",
   "sourceType": "notebook"
  },
  "kernelspec": {
   "display_name": "Python 3",
   "language": "python",
   "name": "python3"
  },
  "language_info": {
   "codemirror_mode": {
    "name": "ipython",
    "version": 3
   },
   "file_extension": ".py",
   "mimetype": "text/x-python",
   "name": "python",
   "nbconvert_exporter": "python",
   "pygments_lexer": "ipython3",
   "version": "3.10.12"
  },
  "papermill": {
   "default_parameters": {},
   "duration": null,
   "end_time": null,
   "environment_variables": {},
   "exception": null,
   "input_path": "__notebook__.ipynb",
   "output_path": "__notebook__.ipynb",
   "parameters": {},
   "start_time": "2025-03-02T05:29:17.576510",
   "version": "2.6.0"
  }
 },
 "nbformat": 4,
 "nbformat_minor": 5
}